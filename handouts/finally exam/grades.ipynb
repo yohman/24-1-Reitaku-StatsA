{
 "cells": [
  {
   "cell_type": "code",
   "execution_count": 8,
   "metadata": {},
   "outputs": [
    {
     "name": "stdout",
     "output_type": "stream",
     "text": [
      "[60, 61, 60, 62, 65, 70, 75, 80, 85, 90, 95, 98, 99]\n"
     ]
    }
   ],
   "source": [
    "# Example grades (sorted in ascending order)\n",
    "grades = [55, 58, 60, 62, 65, 70, 75, 80, 85, 90, 95, 98, 99]\n",
    "\n",
    "# Step 2: Determine the cut-off grade for passing\n",
    "passing_grade = 60\n",
    "\n",
    "# Step 3: Identify the students with a final grade lower than 60\n",
    "students_below_60 = [grade for grade in grades if grade < passing_grade]\n",
    "\n",
    "# Step 4: Calculate the number of additional passing grades needed\n",
    "additional_passing_grades_needed = max(0, 9 - len(grades) + len(students_below_60))\n",
    "\n",
    "# Step 5: Calculate the adjusted passing grade that maintains fairness\n",
    "adjusted_passing_grade = grades[-additional_passing_grades_needed] if additional_passing_grades_needed > 0 else passing_grade\n",
    "\n",
    "# Step 6: Assign passing grades to the students below 60 and maintain fairness for those above 60\n",
    "fair_grades = []\n",
    "for grade in grades:\n",
    "    if grade < passing_grade:\n",
    "        fair_grades.append(adjusted_passing_grade)\n",
    "        adjusted_passing_grade += 1\n",
    "    else:\n",
    "        fair_grades.append(grade)\n",
    "\n",
    "print(fair_grades)\n"
   ]
  },
  {
   "cell_type": "code",
   "execution_count": 9,
   "metadata": {},
   "outputs": [
    {
     "name": "stdout",
     "output_type": "stream",
     "text": [
      "[55, 58, 63.54545454545455, 65.54545454545455, 68.54545454545455, 73.54545454545455, 78.54545454545455, 83.54545454545455, 88.54545454545455, 93.54545454545455, 98.54545454545455, 99, 99]\n"
     ]
    }
   ],
   "source": [
    "# Example grades (sorted in ascending order)\n",
    "grades = [55, 58, 60, 62, 65, 70, 75, 80, 85, 90, 95, 98, 99]\n",
    "\n",
    "# Step 1: Find the highest grade in the class\n",
    "highest_grade = max(grades)\n",
    "\n",
    "# Step 2: Determine the cut-off grade for passing\n",
    "passing_grade = 60\n",
    "\n",
    "# Step 3: Identify the students with a final grade lower than 60\n",
    "students_below_60 = [grade for grade in grades if grade < passing_grade]\n",
    "\n",
    "# Step 4: Calculate the number of students to curve (students scored above 60)\n",
    "num_students_to_curve = len(grades) - len(students_below_60)\n",
    "\n",
    "# Step 5: Calculate the curve increment to add to each grade above 60\n",
    "curve_increment = (highest_grade - passing_grade) / num_students_to_curve\n",
    "\n",
    "# Step 6: Apply the curve to the grades of students above 60\n",
    "curved_grades = []\n",
    "for grade in grades:\n",
    "    if grade >= passing_grade:\n",
    "        curved_grade = min(grade + curve_increment, highest_grade)\n",
    "        curved_grades.append(curved_grade)\n",
    "    else:\n",
    "        curved_grades.append(grade)\n",
    "\n",
    "print(curved_grades)\n"
   ]
  },
  {
   "cell_type": "code",
   "execution_count": null,
   "metadata": {},
   "outputs": [],
   "source": [
    "=QUERY(B:B, \"SELECT B, COUNT(B) WHERE B is not null GROUP BY B LABEL B 'Letter Grade', COUNT(B) 'Count'\")\n"
   ]
  }
 ],
 "metadata": {
  "kernelspec": {
   "display_name": "geos",
   "language": "python",
   "name": "python3"
  },
  "language_info": {
   "codemirror_mode": {
    "name": "ipython",
    "version": 3
   },
   "file_extension": ".py",
   "mimetype": "text/x-python",
   "name": "python",
   "nbconvert_exporter": "python",
   "pygments_lexer": "ipython3",
   "version": "3.11.0"
  },
  "orig_nbformat": 4
 },
 "nbformat": 4,
 "nbformat_minor": 2
}
